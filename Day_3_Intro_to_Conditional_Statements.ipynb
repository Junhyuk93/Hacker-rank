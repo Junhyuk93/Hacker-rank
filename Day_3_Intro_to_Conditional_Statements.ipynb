{
  "nbformat": 4,
  "nbformat_minor": 0,
  "metadata": {
    "colab": {
      "name": "Day 3: Intro to Conditional Statements",
      "provenance": [],
      "private_outputs": true,
      "authorship_tag": "ABX9TyPyWzLDWcVjjU6/YxvZJpq9",
      "include_colab_link": true
    },
    "kernelspec": {
      "name": "python3",
      "display_name": "Python 3"
    }
  },
  "cells": [
    {
      "cell_type": "markdown",
      "metadata": {
        "id": "view-in-github",
        "colab_type": "text"
      },
      "source": [
        "<a href=\"https://colab.research.google.com/github/akznsk1/Hacker-rank/blob/master/Day_3_Intro_to_Conditional_Statements.ipynb\" target=\"_parent\"><img src=\"https://colab.research.google.com/assets/colab-badge.svg\" alt=\"Open In Colab\"/></a>"
      ]
    },
    {
      "cell_type": "code",
      "metadata": {
        "id": "pRY0E-j6NWyb",
        "colab_type": "code",
        "colab": {}
      },
      "source": [
        "#!/bin/python3\n",
        "\n",
        "import math\n",
        "import os\n",
        "import random\n",
        "import re\n",
        "import sys\n",
        "\n",
        "\n",
        "\n",
        "if __name__ == '__main__':\n",
        "    N = int(input())\n",
        "\n",
        "if N % 2 != 0:\n",
        "    print('Weird')\n",
        "elif 2 <= N and N <= 5:\n",
        "    print('Not Weird')\n",
        "\n",
        "elif 6 <= N and N <= 20:\n",
        "    print('Weird')\n",
        "\n",
        "else:\n",
        "    print('Not Weird')"
      ],
      "execution_count": 0,
      "outputs": []
    }
  ]
}