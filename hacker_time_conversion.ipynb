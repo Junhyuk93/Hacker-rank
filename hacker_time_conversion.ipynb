{
  "nbformat": 4,
  "nbformat_minor": 0,
  "metadata": {
    "colab": {
      "name": "hacker.-time-conversion",
      "provenance": [],
      "private_outputs": true,
      "authorship_tag": "ABX9TyPoP4zbe6faxTgUQihCZJtG",
      "include_colab_link": true
    },
    "kernelspec": {
      "name": "python3",
      "display_name": "Python 3"
    }
  },
  "cells": [
    {
      "cell_type": "markdown",
      "metadata": {
        "id": "view-in-github",
        "colab_type": "text"
      },
      "source": [
        "<a href=\"https://colab.research.google.com/github/akznsk1/Hacker-rank/blob/master/hacker_time_conversion.ipynb\" target=\"_parent\"><img src=\"https://colab.research.google.com/assets/colab-badge.svg\" alt=\"Open In Colab\"/></a>"
      ]
    },
    {
      "cell_type": "code",
      "metadata": {
        "id": "RM0qom_zFlMa",
        "colab_type": "code",
        "colab": {}
      },
      "source": [
        "#!/bin/python3\n",
        "\n",
        "import os\n",
        "import sys\n",
        "\n",
        "#\n",
        "# Complete the timeConversion function below.\n",
        "#\n",
        "# 맨뒤가 AM인지 PM인지 확인.\n",
        "# PM 일 경우 12시간 추가\n",
        "# PM 이지만 12시간 일경우\n",
        "def timeConversion(s):\n",
        "    #\n",
        "    # Write your code here.\n",
        "    #\n",
        "    time = s.split(':')\n",
        "    if s[-2:] == \"PM\":\n",
        "        if time[0] != '12':\n",
        "            time[0] = str(int(time[0]) + 12)\n",
        "\n",
        "    else:\n",
        "        if time[0] == '12':\n",
        "            time[0] = '00'\n",
        "    \n",
        "    ntime = \":\".join(time)\n",
        "    return str(ntime[:-2])\n",
        "if __name__ == '__main__':\n",
        "    f = open(os.environ['OUTPUT_PATH'], 'w')\n",
        "\n",
        "    s = input()\n",
        "\n",
        "    result = timeConversion(s)\n",
        "\n",
        "    f.write(result + '\\n')\n",
        "\n",
        "    f.close()\n"
      ],
      "execution_count": 0,
      "outputs": []
    },
    {
      "cell_type": "code",
      "metadata": {
        "id": "8EouLMRaFtAf",
        "colab_type": "code",
        "colab": {}
      },
      "source": [
        ""
      ],
      "execution_count": 0,
      "outputs": []
    }
  ]
}