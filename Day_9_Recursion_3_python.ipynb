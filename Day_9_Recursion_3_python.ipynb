{
  "nbformat": 4,
  "nbformat_minor": 0,
  "metadata": {
    "colab": {
      "name": "Day 9: Recursion 3-python",
      "provenance": [],
      "private_outputs": true,
      "authorship_tag": "ABX9TyP0uE7Fdt0NY5OIqC+3g13U",
      "include_colab_link": true
    },
    "kernelspec": {
      "name": "python3",
      "display_name": "Python 3"
    }
  },
  "cells": [
    {
      "cell_type": "markdown",
      "metadata": {
        "id": "view-in-github",
        "colab_type": "text"
      },
      "source": [
        "<a href=\"https://colab.research.google.com/github/Junhyuk93/Hacker-rank/blob/master/Day_9_Recursion_3_python.ipynb\" target=\"_parent\"><img src=\"https://colab.research.google.com/assets/colab-badge.svg\" alt=\"Open In Colab\"/></a>"
      ]
    },
    {
      "cell_type": "code",
      "metadata": {
        "id": "Gr9ja6_ZwZpW",
        "colab_type": "code",
        "colab": {}
      },
      "source": [
        "# Complete the factorial function below.\n",
        "def factorial(n):\n",
        "    # 곱해질 변수를 만듭니다\n",
        "    number = 1\n",
        "    # 포문을 이용해 반복합니다.\n",
        "    for i in range(1,n+1):\n",
        "        # 만약 n 이 1일경우 1을 반환합니다\n",
        "        if n == 1:\n",
        "            return 1\n",
        "\n",
        "        # 그렇지않다면 변수에 입력값을 곱합니다\n",
        "        number = number * i\n",
        "        # 포문에서 range를 이용했기때문에 입력값까지 순서대로 곱해줍니다.\n",
        "    # 넘버를 반환\n",
        "    return number\n",
        "\n",
        "\n",
        "\n",
        "if __name__ == '__main__':\n",
        "    fptr = open(os.environ['OUTPUT_PATH'], 'w')\n",
        "\n",
        "    n = int(input())\n",
        "\n",
        "    result = factorial(n)\n",
        "\n",
        "    fptr.write(str(result) + '\\n')\n",
        "\n",
        "    fptr.close()\n"
      ],
      "execution_count": 0,
      "outputs": []
    },
    {
      "cell_type": "code",
      "metadata": {
        "id": "neTG3BgbyG6k",
        "colab_type": "code",
        "colab": {}
      },
      "source": [
        ""
      ],
      "execution_count": 0,
      "outputs": []
    }
  ]
}