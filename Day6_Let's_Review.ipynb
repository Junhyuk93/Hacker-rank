{
  "nbformat": 4,
  "nbformat_minor": 0,
  "metadata": {
    "colab": {
      "name": "Day6:Let's Review",
      "provenance": [],
      "private_outputs": true,
      "authorship_tag": "ABX9TyMNp/4IqhZlw7QVXAOKaGou",
      "include_colab_link": true
    },
    "kernelspec": {
      "name": "python3",
      "display_name": "Python 3"
    }
  },
  "cells": [
    {
      "cell_type": "markdown",
      "metadata": {
        "id": "view-in-github",
        "colab_type": "text"
      },
      "source": [
        "<a href=\"https://colab.research.google.com/github/akznsk1/Hacker-rank/blob/master/Day6_Let's_Review.ipynb\" target=\"_parent\"><img src=\"https://colab.research.google.com/assets/colab-badge.svg\" alt=\"Open In Colab\"/></a>"
      ]
    },
    {
      "cell_type": "code",
      "metadata": {
        "id": "pRY0E-j6NWyb",
        "colab_type": "code",
        "colab": {}
      },
      "source": [
        "n = int(input().strip())\n",
        "\n",
        "\n",
        "for i in range(0,n):\n",
        "    S = input()\n",
        "\n",
        "    even,odd = S[::2], S[1::2]\n",
        "    print(even+ ' '+odd)"
      ],
      "execution_count": 0,
      "outputs": []
    }
  ]
}