{
  "nbformat": 4,
  "nbformat_minor": 0,
  "metadata": {
    "colab": {
      "name": "Day 7: Arrays",
      "provenance": [],
      "private_outputs": true,
      "authorship_tag": "ABX9TyPG0w9O0OuUB8IKsEjARFTl",
      "include_colab_link": true
    },
    "kernelspec": {
      "name": "python3",
      "display_name": "Python 3"
    }
  },
  "cells": [
    {
      "cell_type": "markdown",
      "metadata": {
        "id": "view-in-github",
        "colab_type": "text"
      },
      "source": [
        "<a href=\"https://colab.research.google.com/github/akznsk1/Hacker-rank/blob/master/Day_7_Arrays.ipynb\" target=\"_parent\"><img src=\"https://colab.research.google.com/assets/colab-badge.svg\" alt=\"Open In Colab\"/></a>"
      ]
    },
    {
      "cell_type": "code",
      "metadata": {
        "id": "X0odWpoeUOT4",
        "colab_type": "code",
        "colab": {}
      },
      "source": [
        "#!/bin/python3\n",
        "\n",
        "import math\n",
        "import os\n",
        "import random\n",
        "import re\n",
        "import sys\n",
        "\n",
        "\n",
        "\n",
        "if __name__ == '__main__':\n",
        "    n = int(input())\n",
        "    \n",
        "    arr = list(map(int, input().rstrip().split()))\n",
        "\n",
        "arr = map(str,arr[::-1])\n",
        "print(' '.join(arr))\n"
      ],
      "execution_count": 0,
      "outputs": []
    }
  ]
}